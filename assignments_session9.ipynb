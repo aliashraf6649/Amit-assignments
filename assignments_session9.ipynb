{
 "cells": [
  {
   "cell_type": "code",
   "execution_count": null,
   "metadata": {},
   "outputs": [],
   "source": [
    "import pandas as pd\n",
    "import numpy as np\n",
    "#Question 1\n",
    "series = pd.Series([10, 20, 30])\n",
    "\n",
    "print(series)"
   ]
  },
  {
   "cell_type": "code",
   "execution_count": null,
   "metadata": {},
   "outputs": [],
   "source": [
    "#Question 2\n",
    "series.tolist()"
   ]
  },
  {
   "cell_type": "code",
   "execution_count": null,
   "metadata": {},
   "outputs": [],
   "source": [
    "#Question 3\n",
    "series1 = [1,2,3]\n",
    "series2 = [4,5,6]\n",
    "series1 == series2"
   ]
  },
  {
   "cell_type": "code",
   "execution_count": null,
   "metadata": {},
   "outputs": [],
   "source": [
    "#Question 4\n",
    "df = pd.DataFrame({'1': [1, 1, 1]})\n",
    "df ['1'] = df['1'].astype(float)\n",
    "df"
   ]
  },
  {
   "cell_type": "code",
   "execution_count": 5,
   "metadata": {},
   "outputs": [
    {
     "name": "stdout",
     "output_type": "stream",
     "text": [
      "DataFrame with powers:\n",
      "      X       Y         Z\n",
      "0  6084  592704  54700816\n",
      "1  7225  830584  88529281\n",
      "2  9216  704969  84934656\n",
      "3  6400  571787  26873856\n",
      "4  7396  636056  47458321\n"
     ]
    }
   ],
   "source": [
    "#Question 5\n",
    "data = {'X':[78, 85, 96, 80, 86], 'Y':[84, 94, 89, 83, 86], 'Z':[86, 97, 96, 72, 83]}\n",
    "df = pd.DataFrame(data)\n",
    "\n",
    "df['X'] = df['X'].apply(lambda x: x ** 2)\n",
    "df['Y'] = df['Y'].apply(lambda y: y ** 3)\n",
    "df['Z'] = df['Z'].apply(lambda z: z ** 4)\n",
    "\n",
    "print(\"DataFrame with powers:\")\n",
    "print(df)"
   ]
  },
  {
   "cell_type": "code",
   "execution_count": null,
   "metadata": {},
   "outputs": [],
   "source": [
    "#Question 6\n",
    "exam_data = {'name': ['Anastasia', 'Dima', 'Katherine', 'James', 'Emily', 'Michael', \n",
    "'Matthew', 'Laura', 'Kevin', 'Jonas'], \n",
    "'score': [12.5, 9, 16.5, np.nan, 9, 20, 14.5, np.nan, 8, 19], \n",
    "'attempts': [1, 3, 2, 3, 2, 3, 1, 1, 2, 1], \n",
    "'qualify': ['yes', 'no', 'yes', 'no', 'no', 'yes', 'yes', 'no', 'no', 'yes']} \n",
    "labels = ['a', 'b', 'c', 'd', 'e', 'f', 'g', 'h', 'i', 'j']\n",
    "\n",
    "df = pd.DataFrame(exam_data, index=labels)\n",
    "\n",
    "print(\"\"\"First three rows of the data frame: \n",
    "attempts name qualify score\"\"\")\n",
    "print(df.head(3))"
   ]
  },
  {
   "cell_type": "code",
   "execution_count": null,
   "metadata": {},
   "outputs": [],
   "source": [
    "#Question 7\n",
    "print(\"The data with the default index\\n\",pd.DataFrame(exam_data))\n",
    "df_with_index = df.set_index('name')\n",
    "print(\"The data with name column as the index\\n\",df_with_index)"
   ]
  },
  {
   "cell_type": "code",
   "execution_count": null,
   "metadata": {},
   "outputs": [],
   "source": [
    "#Question 8\n",
    "\n",
    "print(\"\\nDataFrame with 'name' as the index:\")\n",
    "print(df_with_index)\n",
    "\n",
    "df_reset_index = df_with_index.reset_index()\n",
    "\n",
    "print(\"\\nDataFrame with reset index:\")\n",
    "print(df_reset_index)"
   ]
  },
  {
   "cell_type": "code",
   "execution_count": null,
   "metadata": {},
   "outputs": [],
   "source": [
    "#Question 9\n",
    "\n",
    "datetime_index = pd.date_range(start='2024-03-01 00:00:00', periods=5, freq='h')\n",
    "\n",
    "data = {'Value': [10, 20, 30, 40, 50]}\n",
    "\n",
    "df = pd.DataFrame(data, index=datetime_index)\n",
    "\n",
    "print(df)"
   ]
  },
  {
   "cell_type": "code",
   "execution_count": null,
   "metadata": {},
   "outputs": [],
   "source": [
    "#Question 10\n",
    "df = pd.DataFrame(exam_data)\n",
    "df = df.rename_axis(\"Index\")\n",
    "df"
   ]
  },
  {
   "cell_type": "code",
   "execution_count": null,
   "metadata": {},
   "outputs": [],
   "source": [
    "#Question 11\n",
    "df.iloc[2]"
   ]
  }
 ],
 "metadata": {
  "kernelspec": {
   "display_name": "Python 3",
   "language": "python",
   "name": "python3"
  },
  "language_info": {
   "codemirror_mode": {
    "name": "ipython",
    "version": 3
   },
   "file_extension": ".py",
   "mimetype": "text/x-python",
   "name": "python",
   "nbconvert_exporter": "python",
   "pygments_lexer": "ipython3",
   "version": "3.11.4"
  }
 },
 "nbformat": 4,
 "nbformat_minor": 2
}
