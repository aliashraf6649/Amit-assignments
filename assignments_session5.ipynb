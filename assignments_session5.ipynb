{
  "cells": [
    {
      "cell_type": "markdown",
      "metadata": {
        "id": "vj3HPudmuzG-"
      },
      "source": [
        "### Task 1"
      ]
    },
    {
      "cell_type": "markdown",
      "metadata": {
        "id": "Qe_S6JKbuXef"
      },
      "source": [
        "This code defines a simple bank system using Python classes. The `Bank class` manages user accounts, balances, registration, login, balance checking, deposits, and withdrawals. Here's a summary of the functionality:\n",
        "\n",
        "`User Registration`: Allows a user to register by entering a unique username and password. If the username already exists, it prompts the user to choose a different one.\n",
        "\n",
        "`User Login`: Allows a registered user to log in by entering their username and password. If the username and password match, the user is logged in successfully.\n",
        "\n",
        "`Check Balance`: Allows a logged-in user to check their current account balance.\n",
        "\n",
        "`Deposit`: Allows a logged-in user to deposit money into their account. The user enters the deposit amount, which is added to their account balance.\n",
        "\n",
        "`Withdrawal`: Allows a logged-in user to withdraw money from their account, provided they have sufficient balance. The user enters the withdrawal amount, which is deducted from their account balance."
      ]
    },
    {
      "cell_type": "code",
      "execution_count": 2,
      "metadata": {},
      "outputs": [],
      "source": [
        "class Bank():\n",
        "    def __init__(self):\n",
        "        self.users = {}\n",
        "    def register(self, username, password):\n",
        "        if username in self.users:\n",
        "            print(\"Username already in use\")\n",
        "        else:\n",
        "            print(\"Registeration success\")\n",
        "            self.users[username] = {'password': password, 'balance' : 0}\n",
        "    \n",
        "    def login(self, username, password):\n",
        "        if username not in self.users or self.users[username]['password'] != password:\n",
        "            print(\"Invalid username or password, please try again\")\n",
        "            return False\n",
        "        else:\n",
        "            print(\"login successful\")\n",
        "            return True\n",
        "            \n",
        "    def check_balance(self, username):\n",
        "        return self.users[username]['balance']\n",
        "    \n",
        "    def deposit(self, username, amount):\n",
        "        if amount < 0:\n",
        "            print(\"Invalid amount\")\n",
        "        else:\n",
        "            self.users[username]['balance'] += amount\n",
        "            print(f\"Deposit of {amount} successful. Current balance: {self.users[username]['balance']}\")\n",
        "        \n",
        "    def withdraw(self, username, amount):\n",
        "        if self.users[username]['balance'] < amount:\n",
        "            print(\"Insufficient balance.\")\n",
        "        else:\n",
        "            self.users[username]['balance'] -= amount\n",
        "            print(f\"Withdrawal of {amount} successful. Current balance: {self.users[username]['balance']}\")\n",
        "            \n",
        "bank = Bank()\n",
        "while True:\n",
        "    choice = int(input(\"1- registeration\\n2- login\\n0- exit\"))\n",
        "    username = None\n",
        "    password = None\n",
        "    logged_in = None\n",
        "\n",
        "    if choice == 0:\n",
        "        break\n",
        "    if choice == 1:\n",
        "        print(\"Registeration\")\n",
        "        username = input(\"Enter your username: \")\n",
        "        password = input(\"Enter Your password: \")\n",
        "        bank.register(username, password)\n",
        "        logged_in = True\n",
        "    elif choice == 2:\n",
        "        print(\"Login\")\n",
        "        username = input(\"Enter your username: \")\n",
        "        password = input(\"Enter Your password: \")\n",
        "        logged_in = bank.login(username, password)\n",
        "    else:\n",
        "        print(\"Invalid choice\")\n",
        "    while True:\n",
        "        if logged_in:\n",
        "            choice = int(input('''Choose one of the following\n",
        "                  1- Check balance\n",
        "                  2- Deposit\n",
        "                  3- Withdraw\n",
        "                  0- logout\\n'''))\n",
        "            if choice == 1:\n",
        "                print(f\"Your Current Balance is {bank.check_balance(username)}\")\n",
        "            elif choice == 2:\n",
        "                amount = int(input(\"Enter amount to deposit: \"))\n",
        "                bank.deposit(username, amount)\n",
        "            elif choice == 3:\n",
        "                amount = int(input(\"Enter amount to withdraw: \"))\n",
        "                bank.withdraw(username, amount)\n",
        "            elif choice == 0:\n",
        "                break\n",
        "            else:\n",
        "                print(\"Invalid Choice\")"
      ]
    },
    {
      "cell_type": "markdown",
      "metadata": {
        "id": "adnMuaiQu1-_"
      },
      "source": [
        "### Task 2"
      ]
    },
    {
      "cell_type": "markdown",
      "metadata": {
        "id": "RacJKaSmvOAc"
      },
      "source": [
        "Defines a class named `Library` that represents a `library` system. The class has attributes for a list of games (gameslist), a dictionary of lenders (lenders), and a dictionary of donors (donors). It also includes methods for managing the library's collection of games.\n",
        "\n",
        "`games` method returns the list of games in the library.\n",
        "\n",
        "The `lend method` allows a person to borrow a game from the library by removing the game from the list of games and updating the lenders dictionary with the borrower's name and the borrowed game.\n",
        "\n",
        "The `returnb method` allows a person to return a borrowed game to the library by adding the game back to the list of games and removing the borrower's name from the lenders dictionary.\n",
        "\n",
        "The `donate method` allows a person to donate a new game to the library by adding the game to the list of games and updating the donors dictionary with the donor's name and the donated game."
      ]
    },
    {
      "cell_type": "code",
      "execution_count": 3,
      "metadata": {
        "id": "9d6mT0weuCr0"
      },
      "outputs": [
        {
          "name": "stdout",
          "output_type": "stream",
          "text": [
            "valo has been donated to the library by Ali.\n",
            "Current games:  ['valo']\n",
            "valo has been lent to Ali\n",
            "Current games:  []\n",
            "Invalid data\n",
            "valo has been returned by Ali\n"
          ]
        },
        {
          "ename": "ValueError",
          "evalue": "invalid literal for int() with base 10: ''",
          "output_type": "error",
          "traceback": [
            "\u001b[1;31m---------------------------------------------------------------------------\u001b[0m",
            "\u001b[1;31mValueError\u001b[0m                                Traceback (most recent call last)",
            "Cell \u001b[1;32mIn[3], line 31\u001b[0m\n\u001b[0;32m     29\u001b[0m borrow \u001b[38;5;241m=\u001b[39m \u001b[38;5;28;01mNone\u001b[39;00m\n\u001b[0;32m     30\u001b[0m \u001b[38;5;28;01mwhile\u001b[39;00m \u001b[38;5;28;01mTrue\u001b[39;00m:\n\u001b[1;32m---> 31\u001b[0m     choice \u001b[38;5;241m=\u001b[39m \u001b[38;5;28;43mint\u001b[39;49m\u001b[43m(\u001b[49m\u001b[38;5;28;43minput\u001b[39;49m\u001b[43m(\u001b[49m\u001b[38;5;124;43m'''\u001b[39;49m\u001b[38;5;124;43mChoose an operation\u001b[39;49m\n\u001b[0;32m     32\u001b[0m \u001b[38;5;124;43m          1- show games\u001b[39;49m\n\u001b[0;32m     33\u001b[0m \u001b[38;5;124;43m          2- lend a game\u001b[39;49m\n\u001b[0;32m     34\u001b[0m \u001b[38;5;124;43m          3- return a borrowed game\u001b[39;49m\n\u001b[0;32m     35\u001b[0m \u001b[38;5;124;43m          4- donate a game\u001b[39;49m\n\u001b[0;32m     36\u001b[0m \u001b[38;5;124;43m          0- exit\u001b[39;49m\u001b[38;5;124;43m'''\u001b[39;49m\u001b[43m)\u001b[49m\u001b[43m)\u001b[49m\n\u001b[0;32m     38\u001b[0m     \u001b[38;5;28;01mif\u001b[39;00m choice \u001b[38;5;241m==\u001b[39m \u001b[38;5;241m0\u001b[39m:\n\u001b[0;32m     39\u001b[0m         \u001b[38;5;28;01mbreak\u001b[39;00m\n",
            "\u001b[1;31mValueError\u001b[0m: invalid literal for int() with base 10: ''"
          ]
        }
      ],
      "source": [
        "class Library():\n",
        "    def __init__(self):\n",
        "        self.games = []\n",
        "        self.lenders = {}\n",
        "        self.donors = {}\n",
        "    def lend(self, game, borrower):\n",
        "        if game not in self.games:\n",
        "            print(\"Game not fount\")\n",
        "        else:\n",
        "            self.games.remove(game)\n",
        "            self.lenders[borrower] = game\n",
        "            print(f\"{game} has been lent to {borrower}\")\n",
        "    def returnb (self, game, borrower):\n",
        "        if borrower in self.lenders and self.lenders[borrower] == game:\n",
        "            self.games.append(game)\n",
        "            del self.lenders[borrower]\n",
        "            print(f\"{game} has been returned by {borrower}\")\n",
        "        else:\n",
        "            print(\"Invalid data\")\n",
        "    def donate(self, game, donor):\n",
        "        self.games.append(game)\n",
        "        self.donors[donor] = game\n",
        "        print(f\"{game} has been donated to the library by {donor}.\")\n",
        "\n",
        "lib = Library()\n",
        "donators = None\n",
        "game = None\n",
        "returner = None\n",
        "borrow = None\n",
        "while True:\n",
        "    choice = int(input('''Choose an operation\n",
        "          1- show games\n",
        "          2- lend a game\n",
        "          3- return a borrowed game\n",
        "          4- donate a game\n",
        "          0- exit'''))\n",
        "    \n",
        "    if choice == 0:\n",
        "        break\n",
        "    elif choice == 1:\n",
        "        print(\"Current games: \",lib.games)\n",
        "    elif choice == 2:\n",
        "        game = input(\"Enter the name of the game: \")\n",
        "        borrow = input(\"Enter the name of the borrower: \")\n",
        "        lib.lend(game, borrow)\n",
        "    elif choice == 3:\n",
        "        borrow = input(\"Enter the name of the borrower: \")\n",
        "        game = input(\"Enter the name of the returned game: \")\n",
        "        lib.returnb(game, borrow)\n",
        "    elif choice == 4:\n",
        "        donators = input(\"Enter the name of the donor: \")\n",
        "        game = input(\"Enter the name of the donated game: \")\n",
        "        lib.donate(game, donators)\n",
        "    else:\n",
        "        print(\"Invalid choice\")\n",
        "        "
      ]
    }
  ],
  "metadata": {
    "colab": {
      "private_outputs": true,
      "provenance": []
    },
    "kernelspec": {
      "display_name": "Python 3",
      "name": "python3"
    },
    "language_info": {
      "codemirror_mode": {
        "name": "ipython",
        "version": 3
      },
      "file_extension": ".py",
      "mimetype": "text/x-python",
      "name": "python",
      "nbconvert_exporter": "python",
      "pygments_lexer": "ipython3",
      "version": "3.11.4"
    }
  },
  "nbformat": 4,
  "nbformat_minor": 0
}
