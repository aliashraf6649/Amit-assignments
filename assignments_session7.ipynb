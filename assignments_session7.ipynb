{
 "cells": [
  {
   "cell_type": "code",
   "execution_count": null,
   "metadata": {},
   "outputs": [],
   "source": [
    "import numpy as np\n",
    "#Question 1\n",
    "def check_zeros(arr):\n",
    "    return np.any(arr == 0)\n",
    "arr1 = np.array([1, 2, 3, 4, 5])\n",
    "arr2 = np.array([1, 2, 0, 4, 5])\n",
    "\n",
    "print(\"Array 1:\", arr1)\n",
    "print(\"array contains zeros\") if check_zeros(arr1) else print(\"array does not contain zeros\")\n",
    "\n",
    "print(\"Array 2:\", arr2)\n",
    "print(\"array contains zeros\") if check_zeros(arr2) else print(\"array does not contain zeros\")"
   ]
  },
  {
   "cell_type": "code",
   "execution_count": null,
   "metadata": {},
   "outputs": [],
   "source": [
    "#Question 2\n",
    "def check_non_zeros(arr):\n",
    "    return np.any(arr != 0)\n",
    "arr1 = np.array([0, 0, 0, 0, 0])\n",
    "arr2 = np.array([1, 2, 0, 4, 5])\n",
    "\n",
    "print(\"Array 1:\", arr1)\n",
    "print(\"array contains non-zeros\") if check_non_zeros(arr1) else print(\"array does not contain non-zeros\")\n",
    "\n",
    "print(\"Array 2:\", arr2)\n",
    "print(\"array contains non-zeros\") if check_non_zeros(arr2) else print(\"array does not contain non-zeros\")"
   ]
  },
  {
   "cell_type": "code",
   "execution_count": null,
   "metadata": {},
   "outputs": [],
   "source": [
    "#Question 3\n",
    "def comparison(arr1, arr2, tolerance):\n",
    "    return np.allclose(arr1, arr2, tolerance)\n",
    "\n",
    "# Get input from the user\n",
    "arr1 = np.array([float(x) for x in input(\"Enter values for array 1 separated by spaces: \").split()])\n",
    "arr2 = np.array([float(x) for x in input(\"Enter values for array 2 separated by spaces: \").split()])\n",
    "\n",
    "# Prompt for tolerance\n",
    "tolerance = float(input(\"Enter tolerance value for comparison: \"))\n",
    "\n",
    "print(\"The two arrays are equal within tolerance\") if comparison(arr1, arr2, tolerance) else print(\"The two elements are not equal within tolerance\")"
   ]
  },
  {
   "cell_type": "code",
   "execution_count": null,
   "metadata": {},
   "outputs": [],
   "source": [
    "#Question 4\n",
    "array = np.array([0]*10 + [1]*10 + [5]*10)\n",
    "\n",
    "print(array)"
   ]
  },
  {
   "cell_type": "code",
   "execution_count": null,
   "metadata": {},
   "outputs": [],
   "source": [
    "#Question 5\n",
    "np.arange(30,71)"
   ]
  },
  {
   "cell_type": "code",
   "execution_count": null,
   "metadata": {},
   "outputs": [],
   "source": [
    "#Question 6\n",
    "np.identity(3)"
   ]
  },
  {
   "cell_type": "code",
   "execution_count": null,
   "metadata": {},
   "outputs": [],
   "source": [
    "#Question 7\n",
    "np.random.rand()"
   ]
  },
  {
   "cell_type": "code",
   "execution_count": null,
   "metadata": {},
   "outputs": [],
   "source": [
    "#Question 8\n",
    "np.random.randn(15)"
   ]
  },
  {
   "cell_type": "code",
   "execution_count": null,
   "metadata": {},
   "outputs": [],
   "source": [
    "#Question 9\n",
    "vector = np.arange(15,56)\n",
    "print(vector[1:-1])"
   ]
  },
  {
   "cell_type": "code",
   "execution_count": null,
   "metadata": {},
   "outputs": [],
   "source": [
    "#Question 10\n",
    "np.random.randint(0,11,5)"
   ]
  },
  {
   "cell_type": "code",
   "execution_count": null,
   "metadata": {},
   "outputs": [],
   "source": [
    "#Question 11\n",
    "matrix = np.zeros((10, 10))\n",
    "\n",
    "matrix[0, :] = 1\n",
    "matrix[-1, :] = 1\n",
    "matrix[:, 0] = 1\n",
    "matrix[:, -1] = 1\n",
    "\n",
    "print(\"Resulting 10x10 matrix:\")\n",
    "print(matrix)"
   ]
  },
  {
   "cell_type": "code",
   "execution_count": null,
   "metadata": {},
   "outputs": [],
   "source": [
    "#Question 12\n",
    "matrix = np.diag([1, 2, 3, 4, 5])\n",
    "\n",
    "print(matrix)"
   ]
  },
  {
   "cell_type": "code",
   "execution_count": null,
   "metadata": {},
   "outputs": [],
   "source": [
    "#Question 13\n",
    "matrix = np.ones((4,4))\n",
    "np.fill_diagonal(matrix, 0)\n",
    "print(matrix)"
   ]
  },
  {
   "cell_type": "code",
   "execution_count": null,
   "metadata": {},
   "outputs": [],
   "source": [
    "#Question 14\n",
    "arr1 = np.array([[1,2,3],[4,5,6]])\n",
    "arr2 = np.array([[1,1,1],[2,2,2]])\n",
    "\n",
    "np.savez_compressed('arrays.npz', arr1 = arr1, arr2 = arr2)\n",
    "\n",
    "loaded = np.load('arrays.npz')\n",
    "\n",
    "loaded1 = loaded['arr1']\n",
    "loaded2 = loaded['arr2']\n",
    "\n",
    "print(loaded1)\n",
    "print(loaded2)"
   ]
  },
  {
   "cell_type": "code",
   "execution_count": null,
   "metadata": {},
   "outputs": [],
   "source": [
    "#Question 15\n",
    "np.random.rand(40)"
   ]
  },
  {
   "cell_type": "code",
   "execution_count": null,
   "metadata": {},
   "outputs": [],
   "source": [
    "#Question 16\n",
    "def extract(array, number):\n",
    "    less_than= array[array < number]\n",
    "    \n",
    "    more_than = array[array > number]\n",
    "    \n",
    "    return less_than, more_than\n",
    "\n",
    "array = np.array([1, 5, 10, 15, 20, 25])\n",
    "number = 10\n",
    "\n",
    "less_than, more_than = extract(array, number)\n",
    "\n",
    "print(f\"Numbers less than {number}: {less_than}\")\n",
    "print(f\"Numbers more than {number}: {more_than}\")"
   ]
  },
  {
   "cell_type": "code",
   "execution_count": null,
   "metadata": {},
   "outputs": [],
   "source": []
  }
 ],
 "metadata": {
  "kernelspec": {
   "display_name": "Python 3",
   "language": "python",
   "name": "python3"
  },
  "language_info": {
   "codemirror_mode": {
    "name": "ipython",
    "version": 3
   },
   "file_extension": ".py",
   "mimetype": "text/x-python",
   "name": "python",
   "nbconvert_exporter": "python",
   "pygments_lexer": "ipython3",
   "version": "3.11.4"
  }
 },
 "nbformat": 4,
 "nbformat_minor": 2
}
