{
 "cells": [
  {
   "cell_type": "markdown",
   "metadata": {
    "id": "2a0y9sz6Znvf"
   },
   "source": [
    "### Create a simple class names calculator"
   ]
  },
  {
   "cell_type": "code",
   "execution_count": null,
   "metadata": {},
   "outputs": [],
   "source": [
    "class Calculator():"
   ]
  },
  {
   "cell_type": "markdown",
   "metadata": {
    "id": "h-9hbnhMZrdV"
   },
   "source": [
    "### Create a constructor that prints Welcome message"
   ]
  },
  {
   "cell_type": "code",
   "execution_count": 2,
   "metadata": {},
   "outputs": [],
   "source": [
    "    def __init__(self):\n",
    "        print(\"Welcome\")"
   ]
  },
  {
   "cell_type": "markdown",
   "metadata": {
    "id": "CciUtqOgZtr9"
   },
   "source": [
    "###  Add 2 methods to the class sum & mull"
   ]
  },
  {
   "cell_type": "markdown",
   "metadata": {
    "id": "KX9v_nj0ZwX7"
   },
   "source": [
    "###  The sum method return the sum of 2 arguments x and y"
   ]
  },
  {
   "cell_type": "code",
   "execution_count": null,
   "metadata": {},
   "outputs": [],
   "source": [
    "    def Sum(self, x, y):\n",
    "        return x + y"
   ]
  },
  {
   "cell_type": "markdown",
   "metadata": {
    "id": "z-zkBmIzZ1mI"
   },
   "source": [
    "### The mull method return the multiplication of the arguments x and y"
   ]
  },
  {
   "cell_type": "code",
   "execution_count": null,
   "metadata": {},
   "outputs": [],
   "source": [
    "    def mull(self, x, y):\n",
    "        return x * y"
   ]
  },
  {
   "cell_type": "markdown",
   "metadata": {
    "id": "EvC_D3eHZ3mf"
   },
   "source": [
    "###  Take an object from the class"
   ]
  },
  {
   "cell_type": "code",
   "execution_count": 4,
   "metadata": {},
   "outputs": [],
   "source": [
    "object_1 = Calculator()"
   ]
  },
  {
   "cell_type": "markdown",
   "metadata": {
    "id": "hY6TnxuoZ9jw"
   },
   "source": [
    "### Explain in few words why we call the self in methods"
   ]
  },
  {
   "cell_type": "code",
   "execution_count": 8,
   "metadata": {},
   "outputs": [
    {
     "data": {
      "text/plain": [
       "'To refer to the instance of the class within its method'"
      ]
     },
     "execution_count": 8,
     "metadata": {},
     "output_type": "execute_result"
    }
   ],
   "source": [
    "'''To refer to the instance of the class within its method'''"
   ]
  },
  {
   "cell_type": "markdown",
   "metadata": {
    "id": "KdsHy2_CZ_d_"
   },
   "source": [
    "### What we mean with OOP 4 Pillars"
   ]
  },
  {
   "cell_type": "code",
   "execution_count": null,
   "metadata": {},
   "outputs": [],
   "source": [
    "'''1- Encapsulation\n",
    "2- Inheritance\n",
    "3- Polymorphism\n",
    "4- Abstraction'''"
   ]
  },
  {
   "cell_type": "markdown",
   "metadata": {
    "id": "_WkKdEQSaBlt"
   },
   "source": [
    "###  Why we use OOP in our code"
   ]
  },
  {
   "cell_type": "code",
   "execution_count": null,
   "metadata": {},
   "outputs": [],
   "source": [
    "'''1- It simplifies complex systems\n",
    "\n",
    "2- enhances maintainability\n",
    "\n",
    "3- supports the creation of scalable and adaptable software.\n",
    "\n",
    "4- OOP is commonly used for developing large-scale applications where structured design is essential.\n",
    "'''"
   ]
  },
  {
   "cell_type": "markdown",
   "metadata": {
    "id": "IdJYRpDlaEca"
   },
   "source": [
    "### Create a new class names SciCalc with 3 methods , sum , mull , power all of them takes 2 argument x, y"
   ]
  },
  {
   "cell_type": "code",
   "execution_count": null,
   "metadata": {},
   "outputs": [],
   "source": [
    "class SciCalc(Calculator):\n",
    "    def power(self, x, y):\n",
    "        return x ** y"
   ]
  },
  {
   "cell_type": "markdown",
   "metadata": {
    "id": "qV1wzT51aHlw"
   },
   "source": [
    "### Sum return the sum of x and y"
   ]
  },
  {
   "cell_type": "markdown",
   "metadata": {
    "id": "EwdGJ1KVaJ9W"
   },
   "source": [
    "###  Mull return the multiplication of x and y"
   ]
  },
  {
   "cell_type": "markdown",
   "metadata": {
    "id": "aNNs5VAzaVZx"
   },
   "source": [
    "### Inherit from the Calc class , now remove the unneeded code the the SciCalc after inheriting\n"
   ]
  },
  {
   "cell_type": "markdown",
   "metadata": {
    "id": "BkMXbHfMaf5S"
   },
   "source": [
    "### Explain in few words what happened after inheriting"
   ]
  },
  {
   "cell_type": "code",
   "execution_count": 9,
   "metadata": {},
   "outputs": [
    {
     "data": {
      "text/plain": [
       "'the SciCalc class gains access to all the methods in the Calculator class without needing to redefine them'"
      ]
     },
     "execution_count": 9,
     "metadata": {},
     "output_type": "execute_result"
    }
   ],
   "source": [
    "'''the SciCalc class gains access to all the methods in the Calculator class without needing to redefine them'''"
   ]
  }
 ],
 "metadata": {
  "colab": {
   "private_outputs": true,
   "provenance": []
  },
  "kernelspec": {
   "display_name": "Python 3 (ipykernel)",
   "language": "python",
   "name": "python3"
  },
  "language_info": {
   "codemirror_mode": {
    "name": "ipython",
    "version": 3
   },
   "file_extension": ".py",
   "mimetype": "text/x-python",
   "name": "python",
   "nbconvert_exporter": "python",
   "pygments_lexer": "ipython3",
   "version": "3.11.5"
  }
 },
 "nbformat": 4,
 "nbformat_minor": 1
}
